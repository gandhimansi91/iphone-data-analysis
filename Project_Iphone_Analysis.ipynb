{
 "cells": [
  {
   "cell_type": "markdown",
   "source": [
    "Note : Read the iphone.csv dataset to pandas dataframe as \"df\""
   ],
   "metadata": {
    "collapsed": false
   },
   "id": "289aea561e213311"
  },
  {
   "cell_type": "code",
   "execution_count": 19,
   "outputs": [
    {
     "name": "stdout",
     "output_type": "stream",
     "text": [
      "                                Product Name  \\\n",
      "0          APPLE iPhone 8 Plus (Gold, 64 GB)   \n",
      "1   APPLE iPhone 8 Plus (Space Grey, 256 GB)   \n",
      "2       APPLE iPhone 8 Plus (Silver, 256 GB)   \n",
      "3            APPLE iPhone 8 (Silver, 256 GB)   \n",
      "4              APPLE iPhone 8 (Gold, 256 GB)   \n",
      "..                                       ...   \n",
      "57            APPLE iPhone SE (Black, 64 GB)   \n",
      "58           APPLE iPhone 11 (Purple, 64 GB)   \n",
      "59            APPLE iPhone 11 (White, 64 GB)   \n",
      "60            APPLE iPhone 11 (Black, 64 GB)   \n",
      "61              APPLE iPhone 11 (Red, 64 GB)   \n",
      "\n",
      "                                          Product URL  Brand  Sale Price  \\\n",
      "0   https://www.flipkart.com/apple-iphone-8-plus-g...  Apple       49900   \n",
      "1   https://www.flipkart.com/apple-iphone-8-plus-s...  Apple       84900   \n",
      "2   https://www.flipkart.com/apple-iphone-8-plus-s...  Apple       84900   \n",
      "3   https://www.flipkart.com/apple-iphone-8-silver...  Apple       77000   \n",
      "4   https://www.flipkart.com/apple-iphone-8-gold-2...  Apple       77000   \n",
      "..                                                ...    ...         ...   \n",
      "57  https://www.flipkart.com/apple-iphone-se-black...  Apple       29999   \n",
      "58  https://www.flipkart.com/apple-iphone-11-purpl...  Apple       46999   \n",
      "59  https://www.flipkart.com/apple-iphone-11-white...  Apple       46999   \n",
      "60  https://www.flipkart.com/apple-iphone-11-black...  Apple       46999   \n",
      "61  https://www.flipkart.com/apple-iphone-11-red-6...  Apple       46999   \n",
      "\n",
      "      Mrp  Number Of Ratings  Number Of Reviews               Upc  \\\n",
      "0   49900               3431                356  MOBEXRGV7EHHTGUH   \n",
      "1   84900               3431                356  MOBEXRGVAC6TJT4F   \n",
      "2   84900               3431                356  MOBEXRGVGETABXWZ   \n",
      "3   77000              11202                794  MOBEXRGVMZWUHCBA   \n",
      "4   77000              11202                794  MOBEXRGVPK7PFEJZ   \n",
      "..    ...                ...                ...               ...   \n",
      "57  39900              95909               8161  MOBFWQ6BR3MK7AUG   \n",
      "58  54900              43470               3331  MOBFWQ6BTFFJKGKE   \n",
      "59  54900              43470               3331  MOBFWQ6BVWVEH3XE   \n",
      "60  54900              43470               3331  MOBFWQ6BXGJCEYNY   \n",
      "61  54900              43470               3331  MOBFWQ6BYYV3FCU7   \n",
      "\n",
      "    Star Rating   Ram  \n",
      "0           4.6  2 GB  \n",
      "1           4.6  2 GB  \n",
      "2           4.6  2 GB  \n",
      "3           NaN  2 GB  \n",
      "4           4.5  2 GB  \n",
      "..          ...   ...  \n",
      "57          4.5  4 GB  \n",
      "58          4.6  4 GB  \n",
      "59          4.6  4 GB  \n",
      "60          4.6  4 GB  \n",
      "61          4.6  4 GB  \n",
      "\n",
      "[62 rows x 10 columns]\n"
     ]
    }
   ],
   "source": [
    "import pandas as pd\n",
    "\n",
    "# Creating df dataframe from iphone.csv file\n",
    "df = pd.read_csv('data/iphone.csv')\n",
    "\n",
    "# Display the DataFrame\n",
    "print(df)"
   ],
   "metadata": {
    "collapsed": false,
    "ExecuteTime": {
     "end_time": "2023-10-15T17:08:22.472255600Z",
     "start_time": "2023-10-15T17:08:22.282404200Z"
    }
   },
   "id": "ceec279789f9ca81"
  },
  {
   "cell_type": "markdown",
   "source": [
    "1 - The column names have spaces . rename the column names to have underscore '_' instead of space (try to do in one go instead of specifying each column nam in rename method)"
   ],
   "metadata": {
    "collapsed": false
   },
   "id": "ba852c7179ddcec3"
  },
  {
   "cell_type": "code",
   "execution_count": 20,
   "outputs": [
    {
     "name": "stdout",
     "output_type": "stream",
     "text": [
      "                                Product_Name  \\\n",
      "0          APPLE iPhone 8 Plus (Gold, 64 GB)   \n",
      "1   APPLE iPhone 8 Plus (Space Grey, 256 GB)   \n",
      "2       APPLE iPhone 8 Plus (Silver, 256 GB)   \n",
      "3            APPLE iPhone 8 (Silver, 256 GB)   \n",
      "4              APPLE iPhone 8 (Gold, 256 GB)   \n",
      "..                                       ...   \n",
      "57            APPLE iPhone SE (Black, 64 GB)   \n",
      "58           APPLE iPhone 11 (Purple, 64 GB)   \n",
      "59            APPLE iPhone 11 (White, 64 GB)   \n",
      "60            APPLE iPhone 11 (Black, 64 GB)   \n",
      "61              APPLE iPhone 11 (Red, 64 GB)   \n",
      "\n",
      "                                          Product_URL  Brand  Sale_Price  \\\n",
      "0   https://www.flipkart.com/apple-iphone-8-plus-g...  Apple       49900   \n",
      "1   https://www.flipkart.com/apple-iphone-8-plus-s...  Apple       84900   \n",
      "2   https://www.flipkart.com/apple-iphone-8-plus-s...  Apple       84900   \n",
      "3   https://www.flipkart.com/apple-iphone-8-silver...  Apple       77000   \n",
      "4   https://www.flipkart.com/apple-iphone-8-gold-2...  Apple       77000   \n",
      "..                                                ...    ...         ...   \n",
      "57  https://www.flipkart.com/apple-iphone-se-black...  Apple       29999   \n",
      "58  https://www.flipkart.com/apple-iphone-11-purpl...  Apple       46999   \n",
      "59  https://www.flipkart.com/apple-iphone-11-white...  Apple       46999   \n",
      "60  https://www.flipkart.com/apple-iphone-11-black...  Apple       46999   \n",
      "61  https://www.flipkart.com/apple-iphone-11-red-6...  Apple       46999   \n",
      "\n",
      "      Mrp  Number_Of_Ratings  Number_Of_Reviews               Upc  \\\n",
      "0   49900               3431                356  MOBEXRGV7EHHTGUH   \n",
      "1   84900               3431                356  MOBEXRGVAC6TJT4F   \n",
      "2   84900               3431                356  MOBEXRGVGETABXWZ   \n",
      "3   77000              11202                794  MOBEXRGVMZWUHCBA   \n",
      "4   77000              11202                794  MOBEXRGVPK7PFEJZ   \n",
      "..    ...                ...                ...               ...   \n",
      "57  39900              95909               8161  MOBFWQ6BR3MK7AUG   \n",
      "58  54900              43470               3331  MOBFWQ6BTFFJKGKE   \n",
      "59  54900              43470               3331  MOBFWQ6BVWVEH3XE   \n",
      "60  54900              43470               3331  MOBFWQ6BXGJCEYNY   \n",
      "61  54900              43470               3331  MOBFWQ6BYYV3FCU7   \n",
      "\n",
      "    Star_Rating   Ram  \n",
      "0           4.6  2 GB  \n",
      "1           4.6  2 GB  \n",
      "2           4.6  2 GB  \n",
      "3           NaN  2 GB  \n",
      "4           4.5  2 GB  \n",
      "..          ...   ...  \n",
      "57          4.5  4 GB  \n",
      "58          4.6  4 GB  \n",
      "59          4.6  4 GB  \n",
      "60          4.6  4 GB  \n",
      "61          4.6  4 GB  \n",
      "\n",
      "[62 rows x 10 columns]\n"
     ]
    }
   ],
   "source": [
    "# Renaming the column names which have underscore '_' instead of space\n",
    "df.columns = df.columns.str.replace(' ', '_')\n",
    "\n",
    "# Display the modified DataFrame\n",
    "print(df)"
   ],
   "metadata": {
    "collapsed": false,
    "ExecuteTime": {
     "end_time": "2023-10-15T17:08:22.581610300Z",
     "start_time": "2023-10-15T17:08:22.313844100Z"
    }
   },
   "id": "aecc9225e8a3d265"
  },
  {
   "cell_type": "markdown",
   "source": [
    "2- Star rating for some of the models is missing in the dataset. fill those missing values with the average rating all the models."
   ],
   "metadata": {
    "collapsed": false
   },
   "id": "719a5d4de3d7903e"
  },
  {
   "cell_type": "code",
   "execution_count": 21,
   "outputs": [
    {
     "name": "stdout",
     "output_type": "stream",
     "text": [
      "                                Product_Name  \\\n",
      "0          APPLE iPhone 8 Plus (Gold, 64 GB)   \n",
      "1   APPLE iPhone 8 Plus (Space Grey, 256 GB)   \n",
      "2       APPLE iPhone 8 Plus (Silver, 256 GB)   \n",
      "3            APPLE iPhone 8 (Silver, 256 GB)   \n",
      "4              APPLE iPhone 8 (Gold, 256 GB)   \n",
      "..                                       ...   \n",
      "57            APPLE iPhone SE (Black, 64 GB)   \n",
      "58           APPLE iPhone 11 (Purple, 64 GB)   \n",
      "59            APPLE iPhone 11 (White, 64 GB)   \n",
      "60            APPLE iPhone 11 (Black, 64 GB)   \n",
      "61              APPLE iPhone 11 (Red, 64 GB)   \n",
      "\n",
      "                                          Product_URL  Brand  Sale_Price  \\\n",
      "0   https://www.flipkart.com/apple-iphone-8-plus-g...  Apple       49900   \n",
      "1   https://www.flipkart.com/apple-iphone-8-plus-s...  Apple       84900   \n",
      "2   https://www.flipkart.com/apple-iphone-8-plus-s...  Apple       84900   \n",
      "3   https://www.flipkart.com/apple-iphone-8-silver...  Apple       77000   \n",
      "4   https://www.flipkart.com/apple-iphone-8-gold-2...  Apple       77000   \n",
      "..                                                ...    ...         ...   \n",
      "57  https://www.flipkart.com/apple-iphone-se-black...  Apple       29999   \n",
      "58  https://www.flipkart.com/apple-iphone-11-purpl...  Apple       46999   \n",
      "59  https://www.flipkart.com/apple-iphone-11-white...  Apple       46999   \n",
      "60  https://www.flipkart.com/apple-iphone-11-black...  Apple       46999   \n",
      "61  https://www.flipkart.com/apple-iphone-11-red-6...  Apple       46999   \n",
      "\n",
      "      Mrp  Number_Of_Ratings  Number_Of_Reviews               Upc  \\\n",
      "0   49900               3431                356  MOBEXRGV7EHHTGUH   \n",
      "1   84900               3431                356  MOBEXRGVAC6TJT4F   \n",
      "2   84900               3431                356  MOBEXRGVGETABXWZ   \n",
      "3   77000              11202                794  MOBEXRGVMZWUHCBA   \n",
      "4   77000              11202                794  MOBEXRGVPK7PFEJZ   \n",
      "..    ...                ...                ...               ...   \n",
      "57  39900              95909               8161  MOBFWQ6BR3MK7AUG   \n",
      "58  54900              43470               3331  MOBFWQ6BTFFJKGKE   \n",
      "59  54900              43470               3331  MOBFWQ6BVWVEH3XE   \n",
      "60  54900              43470               3331  MOBFWQ6BXGJCEYNY   \n",
      "61  54900              43470               3331  MOBFWQ6BYYV3FCU7   \n",
      "\n",
      "    Star_Rating   Ram  \n",
      "0      4.600000  2 GB  \n",
      "1      4.600000  2 GB  \n",
      "2      4.600000  2 GB  \n",
      "3      4.576271  2 GB  \n",
      "4      4.500000  2 GB  \n",
      "..          ...   ...  \n",
      "57     4.500000  4 GB  \n",
      "58     4.600000  4 GB  \n",
      "59     4.600000  4 GB  \n",
      "60     4.600000  4 GB  \n",
      "61     4.600000  4 GB  \n",
      "\n",
      "[62 rows x 10 columns]\n"
     ]
    }
   ],
   "source": [
    "# Calculate the average rating excluding Null values\n",
    "average_rating = df['Star_Rating'].mean(skipna=True)\n",
    "\n",
    "# Fill missing values with the calculated average rating\n",
    "df['Star_Rating'].fillna(average_rating, inplace=True)\n",
    "\n",
    "# Display the modified DataFrame\n",
    "print(df)"
   ],
   "metadata": {
    "collapsed": false,
    "ExecuteTime": {
     "end_time": "2023-10-15T17:08:22.581610300Z",
     "start_time": "2023-10-15T17:08:22.320365400Z"
    }
   },
   "id": "8b962e05e7d7732d"
  },
  {
   "cell_type": "markdown",
   "source": [
    "3- Now instead of filling missing values with avg rating of full dataset , fill with avg rating based on RAM. example :  if rating for a 2 gb phone is missing then take average of all other 2 gb phones rating and fill that value. "
   ],
   "metadata": {
    "collapsed": false
   },
   "id": "3b31b97801683c45"
  },
  {
   "cell_type": "code",
   "execution_count": 22,
   "outputs": [
    {
     "name": "stdout",
     "output_type": "stream",
     "text": [
      "                                Product_Name  \\\n",
      "0          APPLE iPhone 8 Plus (Gold, 64 GB)   \n",
      "1   APPLE iPhone 8 Plus (Space Grey, 256 GB)   \n",
      "2       APPLE iPhone 8 Plus (Silver, 256 GB)   \n",
      "3            APPLE iPhone 8 (Silver, 256 GB)   \n",
      "4              APPLE iPhone 8 (Gold, 256 GB)   \n",
      "..                                       ...   \n",
      "57            APPLE iPhone SE (Black, 64 GB)   \n",
      "58           APPLE iPhone 11 (Purple, 64 GB)   \n",
      "59            APPLE iPhone 11 (White, 64 GB)   \n",
      "60            APPLE iPhone 11 (Black, 64 GB)   \n",
      "61              APPLE iPhone 11 (Red, 64 GB)   \n",
      "\n",
      "                                          Product_URL  Brand  Sale_Price  \\\n",
      "0   https://www.flipkart.com/apple-iphone-8-plus-g...  Apple       49900   \n",
      "1   https://www.flipkart.com/apple-iphone-8-plus-s...  Apple       84900   \n",
      "2   https://www.flipkart.com/apple-iphone-8-plus-s...  Apple       84900   \n",
      "3   https://www.flipkart.com/apple-iphone-8-silver...  Apple       77000   \n",
      "4   https://www.flipkart.com/apple-iphone-8-gold-2...  Apple       77000   \n",
      "..                                                ...    ...         ...   \n",
      "57  https://www.flipkart.com/apple-iphone-se-black...  Apple       29999   \n",
      "58  https://www.flipkart.com/apple-iphone-11-purpl...  Apple       46999   \n",
      "59  https://www.flipkart.com/apple-iphone-11-white...  Apple       46999   \n",
      "60  https://www.flipkart.com/apple-iphone-11-black...  Apple       46999   \n",
      "61  https://www.flipkart.com/apple-iphone-11-red-6...  Apple       46999   \n",
      "\n",
      "      Mrp  Number_Of_Ratings  Number_Of_Reviews               Upc  \\\n",
      "0   49900               3431                356  MOBEXRGV7EHHTGUH   \n",
      "1   84900               3431                356  MOBEXRGVAC6TJT4F   \n",
      "2   84900               3431                356  MOBEXRGVGETABXWZ   \n",
      "3   77000              11202                794  MOBEXRGVMZWUHCBA   \n",
      "4   77000              11202                794  MOBEXRGVPK7PFEJZ   \n",
      "..    ...                ...                ...               ...   \n",
      "57  39900              95909               8161  MOBFWQ6BR3MK7AUG   \n",
      "58  54900              43470               3331  MOBFWQ6BTFFJKGKE   \n",
      "59  54900              43470               3331  MOBFWQ6BVWVEH3XE   \n",
      "60  54900              43470               3331  MOBFWQ6BXGJCEYNY   \n",
      "61  54900              43470               3331  MOBFWQ6BYYV3FCU7   \n",
      "\n",
      "    Star_Rating   Ram  \n",
      "0      4.600000  2 GB  \n",
      "1      4.600000  2 GB  \n",
      "2      4.600000  2 GB  \n",
      "3      4.576271  2 GB  \n",
      "4      4.500000  2 GB  \n",
      "..          ...   ...  \n",
      "57     4.500000  4 GB  \n",
      "58     4.600000  4 GB  \n",
      "59     4.600000  4 GB  \n",
      "60     4.600000  4 GB  \n",
      "61     4.600000  4 GB  \n",
      "\n",
      "[62 rows x 10 columns]\n"
     ]
    }
   ],
   "source": [
    "# Calculate the average rating for each RAM group\n",
    "average_ratings_by_ram = df.groupby('Ram')['Star_Rating'].mean().reset_index()\n",
    "\n",
    "# Rename the 'Star_Rating' column to 'Average_Rating' for clarity\n",
    "average_ratings_by_ram.rename(columns={'Star_Rating': 'Average_Rating'}, inplace=True)\n",
    "\n",
    "# Perform a left join to fill missing ratings based on RAM\n",
    "df = df.merge(average_ratings_by_ram, on='Ram', how='left')\n",
    "\n",
    "# Fill missing ratings with the calculated average ratings\n",
    "df['Star_Rating'].fillna(df['Average_Rating'], inplace=True)\n",
    "\n",
    "# Drop the 'Average_Rating' column if not needed\n",
    "df.drop(columns=['Average_Rating'], inplace=True)\n",
    "\n",
    "# Display the modified DataFrame\n",
    "print(df)"
   ],
   "metadata": {
    "collapsed": false,
    "ExecuteTime": {
     "end_time": "2023-10-15T17:08:22.597231600Z",
     "start_time": "2023-10-15T17:08:22.333775500Z"
    }
   },
   "id": "ce52803f07fb8a34"
  },
  {
   "cell_type": "markdown",
   "source": [
    "4- Create a new column in the dataframe \"Discount_Percentage\" based on MRP and sale value"
   ],
   "metadata": {
    "collapsed": false
   },
   "id": "77515318f514a831"
  },
  {
   "cell_type": "code",
   "execution_count": 23,
   "outputs": [
    {
     "name": "stdout",
     "output_type": "stream",
     "text": [
      "                                Product_Name  \\\n",
      "0          APPLE iPhone 8 Plus (Gold, 64 GB)   \n",
      "1   APPLE iPhone 8 Plus (Space Grey, 256 GB)   \n",
      "2       APPLE iPhone 8 Plus (Silver, 256 GB)   \n",
      "3            APPLE iPhone 8 (Silver, 256 GB)   \n",
      "4              APPLE iPhone 8 (Gold, 256 GB)   \n",
      "..                                       ...   \n",
      "57            APPLE iPhone SE (Black, 64 GB)   \n",
      "58           APPLE iPhone 11 (Purple, 64 GB)   \n",
      "59            APPLE iPhone 11 (White, 64 GB)   \n",
      "60            APPLE iPhone 11 (Black, 64 GB)   \n",
      "61              APPLE iPhone 11 (Red, 64 GB)   \n",
      "\n",
      "                                          Product_URL  Brand  Sale_Price  \\\n",
      "0   https://www.flipkart.com/apple-iphone-8-plus-g...  Apple       49900   \n",
      "1   https://www.flipkart.com/apple-iphone-8-plus-s...  Apple       84900   \n",
      "2   https://www.flipkart.com/apple-iphone-8-plus-s...  Apple       84900   \n",
      "3   https://www.flipkart.com/apple-iphone-8-silver...  Apple       77000   \n",
      "4   https://www.flipkart.com/apple-iphone-8-gold-2...  Apple       77000   \n",
      "..                                                ...    ...         ...   \n",
      "57  https://www.flipkart.com/apple-iphone-se-black...  Apple       29999   \n",
      "58  https://www.flipkart.com/apple-iphone-11-purpl...  Apple       46999   \n",
      "59  https://www.flipkart.com/apple-iphone-11-white...  Apple       46999   \n",
      "60  https://www.flipkart.com/apple-iphone-11-black...  Apple       46999   \n",
      "61  https://www.flipkart.com/apple-iphone-11-red-6...  Apple       46999   \n",
      "\n",
      "      Mrp  Number_Of_Ratings  Number_Of_Reviews               Upc  \\\n",
      "0   49900               3431                356  MOBEXRGV7EHHTGUH   \n",
      "1   84900               3431                356  MOBEXRGVAC6TJT4F   \n",
      "2   84900               3431                356  MOBEXRGVGETABXWZ   \n",
      "3   77000              11202                794  MOBEXRGVMZWUHCBA   \n",
      "4   77000              11202                794  MOBEXRGVPK7PFEJZ   \n",
      "..    ...                ...                ...               ...   \n",
      "57  39900              95909               8161  MOBFWQ6BR3MK7AUG   \n",
      "58  54900              43470               3331  MOBFWQ6BTFFJKGKE   \n",
      "59  54900              43470               3331  MOBFWQ6BVWVEH3XE   \n",
      "60  54900              43470               3331  MOBFWQ6BXGJCEYNY   \n",
      "61  54900              43470               3331  MOBFWQ6BYYV3FCU7   \n",
      "\n",
      "    Star_Rating   Ram  Discount_Percentage  \n",
      "0      4.600000  2 GB                 0.00  \n",
      "1      4.600000  2 GB                 0.00  \n",
      "2      4.600000  2 GB                 0.00  \n",
      "3      4.576271  2 GB                 0.00  \n",
      "4      4.500000  2 GB                 0.00  \n",
      "..          ...   ...                  ...  \n",
      "57     4.500000  4 GB                24.81  \n",
      "58     4.600000  4 GB                14.39  \n",
      "59     4.600000  4 GB                14.39  \n",
      "60     4.600000  4 GB                14.39  \n",
      "61     4.600000  4 GB                14.39  \n",
      "\n",
      "[62 rows x 11 columns]\n"
     ]
    }
   ],
   "source": [
    "# Adding a new column in the dataframe \"Discount_Percentage\" based on MRP and sale value\n",
    "df[\"Discount_Percentage\"]=round(((df[\"Mrp\"]-df[\"Sale_Price\"])/df[\"Mrp\"])*100,2)\n",
    "\n",
    "# Display the modified DataFrame\n",
    "print(df)"
   ],
   "metadata": {
    "collapsed": false,
    "ExecuteTime": {
     "end_time": "2023-10-15T17:08:22.597231600Z",
     "start_time": "2023-10-15T17:08:22.351391500Z"
    }
   },
   "id": "d038e69c8c153886"
  },
  {
   "cell_type": "markdown",
   "source": [
    "5- Which model has highest percent discount ?"
   ],
   "metadata": {
    "collapsed": false
   },
   "id": "e82b7e213ea5312c"
  },
  {
   "cell_type": "code",
   "execution_count": 24,
   "outputs": [
    {
     "name": "stdout",
     "output_type": "stream",
     "text": [
      "This Model APPLE iPhone 11 Pro (Midnight Green, 64 GB) have highest percentage of 29.64\n"
     ]
    }
   ],
   "source": [
    "sorted_df = df.sort_values(by='Discount_Percentage', ascending=False)\n",
    "\n",
    "# Get the model with the highest discount and its corresponding percentage\n",
    "model_with_highest_discount = sorted_df.iloc[0]['Product_Name']\n",
    "highest_discount_percentage = sorted_df.iloc[0]['Discount_Percentage']\n",
    "\n",
    "print(\"This Model \" + str(model_with_highest_discount) + \" have highest percentage of \" + str(highest_discount_percentage) )"
   ],
   "metadata": {
    "collapsed": false,
    "ExecuteTime": {
     "end_time": "2023-10-15T17:08:22.597231600Z",
     "start_time": "2023-10-15T17:08:22.364988900Z"
    }
   },
   "id": "7855cf7b0d655f99"
  },
  {
   "cell_type": "markdown",
   "source": [
    "6- Find total no of models  each space configuration (128 GB , 64 GB etc)"
   ],
   "metadata": {
    "collapsed": false
   },
   "id": "61fcfa72e19018e9"
  },
  {
   "cell_type": "code",
   "execution_count": 25,
   "outputs": [
    {
     "name": "stdout",
     "output_type": "stream",
     "text": [
      "Total no of models  64 GB configuration is 20\n",
      "Total no of models  128 GB configuration is 24\n",
      "Total no of models  256 GB configuration is 14\n",
      "Total no of models  512 GB configuration is 4\n"
     ]
    }
   ],
   "source": [
    "# Total no of models \"64 GB\" configuration \n",
    "space_64GB = df[\"Product_Name\"].str.contains(\"64 GB\")\n",
    "df2 = pd.DataFrame(space_64GB)\n",
    "print(\"Total no of models  64 GB configuration is \" + str(df2[\"Product_Name\"].value_counts()[True]))\n",
    "\n",
    "# Total no of models \"128 GB\" configuration \n",
    "space_128GB = df[\"Product_Name\"].str.contains(\"128 GB\")\n",
    "df3 = pd.DataFrame(space_128GB)\n",
    "print(\"Total no of models  128 GB configuration is \" + str(df3[\"Product_Name\"].value_counts()[True]))\n",
    "\n",
    "# Total no of models \"256 GB\" configuration \n",
    "space_256GB = df[\"Product_Name\"].str.contains(\"256 GB\")\n",
    "df4 = pd.DataFrame(space_256GB)\n",
    "print(\"Total no of models  256 GB configuration is \" + str(df4[\"Product_Name\"].value_counts()[True]))\n",
    "\n",
    "# Total no of models \"512 GB\" configuration \n",
    "space_512GB = df[\"Product_Name\"].str.contains(\"512 GB\")\n",
    "df5 = pd.DataFrame(space_512GB)\n",
    "print(\"Total no of models  512 GB configuration is \" + str(df5[\"Product_Name\"].value_counts()[True]))"
   ],
   "metadata": {
    "collapsed": false,
    "ExecuteTime": {
     "end_time": "2023-10-15T17:08:22.612852100Z",
     "start_time": "2023-10-15T17:08:22.377697500Z"
    }
   },
   "id": "b6ea6a5971a54d94"
  },
  {
   "cell_type": "markdown",
   "source": [
    "7- Find total number of models for each color"
   ],
   "metadata": {
    "collapsed": false
   },
   "id": "7bfe04a370889611"
  },
  {
   "cell_type": "code",
   "execution_count": 26,
   "outputs": [
    {
     "name": "stdout",
     "output_type": "stream",
     "text": [
      "             Color  Total Models\n",
      "0            Black            10\n",
      "1            White            10\n",
      "2           Silver             7\n",
      "3             Gold             6\n",
      "4       Space Grey             6\n",
      "5              Red             5\n",
      "6   Midnight Green             4\n",
      "7     Pacific Blue             4\n",
      "8         Graphite             4\n",
      "9             Blue             2\n",
      "10             RED             1\n",
      "11           Coral             1\n",
      "12           Green             1\n",
      "13          Purple             1\n"
     ]
    }
   ],
   "source": [
    "# Define a function to extract color based on a pattern\n",
    "def extract_color(product_name):\n",
    "    # Split the product name by '(' and ')' to get parts within parentheses\n",
    "    parts = product_name.split('(')\n",
    "    if len(parts) > 1:\n",
    "        # Check if the second part contains a comma (,) to identify color\n",
    "        color_part = parts[1].strip()\n",
    "        if ',' in color_part:\n",
    "            color = color_part.split(',')[0].strip()\n",
    "            return color\n",
    "    return None\n",
    "\n",
    "# Apply the extract_color function to create a 'Color' column\n",
    "df['Color'] = df['Product_Name'].apply(extract_color)\n",
    "\n",
    "# Count the number of models for each color\n",
    "color_counts = df['Color'].value_counts().reset_index()\n",
    "\n",
    "# Rename the columns for clarity\n",
    "color_counts.columns = ['Color', 'Total Models']\n",
    "\n",
    "# Display the result\n",
    "print(color_counts)"
   ],
   "metadata": {
    "collapsed": false,
    "ExecuteTime": {
     "end_time": "2023-10-15T17:08:22.612852100Z",
     "start_time": "2023-10-15T17:08:22.393402100Z"
    }
   },
   "id": "b8362be1f44ede79"
  },
  {
   "cell_type": "markdown",
   "source": [
    "8- Find total number of models by iphone version : eg\n",
    "iphone 8:  9\n",
    "iphone XR : 5\n",
    "\n",
    "so on.."
   ],
   "metadata": {
    "collapsed": false
   },
   "id": "328eeafaee859543"
  },
  {
   "cell_type": "code",
   "execution_count": 27,
   "outputs": [
    {
     "name": "stdout",
     "output_type": "stream",
     "text": [
      "  iPhone_Version  Total_Models\n",
      "0      iPhone 12            26\n",
      "1      iPhone 11            16\n",
      "2       iPhone 8             8\n",
      "3      iPhone SE             6\n",
      "4      iPhone XR             5\n",
      "5      iPhone XS             1\n"
     ]
    }
   ],
   "source": [
    "# Define a function to extract iPhone version\n",
    "def extract_iphone_version(product_name):\n",
    "    # Split the product name by 'iPhone' and get the part after 'iPhone'\n",
    "    parts = product_name.split('iPhone')\n",
    "    if len(parts) > 1:\n",
    "        version = parts[1].strip().split(' ')[0]\n",
    "        return 'iPhone ' + version\n",
    "    return None\n",
    "\n",
    "# Apply the extract_iphone_version function to create an 'iPhone Version' column\n",
    "df['iPhone_Version'] = df['Product_Name'].apply(extract_iphone_version)\n",
    "\n",
    "# Count the number of models for each iPhone version\n",
    "iphone_version_counts = df['iPhone_Version'].value_counts().reset_index()\n",
    "\n",
    "# Rename the columns for clarity\n",
    "iphone_version_counts.columns = ['iPhone_Version', 'Total_Models']\n",
    "\n",
    "# Display the result\n",
    "print(iphone_version_counts)"
   ],
   "metadata": {
    "collapsed": false,
    "ExecuteTime": {
     "end_time": "2023-10-15T17:08:22.612852100Z",
     "start_time": "2023-10-15T17:08:22.399555300Z"
    }
   },
   "id": "ac3c68377282cb8b"
  },
  {
   "cell_type": "markdown",
   "source": [
    "9- List top 5 models having highest no of reviews "
   ],
   "metadata": {
    "collapsed": false
   },
   "id": "f15eb3d5c8943f0c"
  },
  {
   "cell_type": "code",
   "execution_count": 28,
   "outputs": [
    {
     "name": "stdout",
     "output_type": "stream",
     "text": [
      "                       Product_Name  \\\n",
      "23  Apple iPhone SE (White, 256 GB)   \n",
      "53  APPLE iPhone SE (Black, 128 GB)   \n",
      "55    APPLE iPhone SE (Red, 128 GB)   \n",
      "57   APPLE iPhone SE (Black, 64 GB)   \n",
      "52   APPLE iPhone SE (White, 64 GB)   \n",
      "\n",
      "                                          Product_URL  Brand  Sale_Price  \\\n",
      "23  https://www.flipkart.com/apple-iphone-se-white...  Apple       44999   \n",
      "53  https://www.flipkart.com/apple-iphone-se-black...  Apple       34999   \n",
      "55  https://www.flipkart.com/apple-iphone-se-red-1...  Apple       34999   \n",
      "57  https://www.flipkart.com/apple-iphone-se-black...  Apple       29999   \n",
      "52  https://www.flipkart.com/apple-iphone-se-white...  Apple       29999   \n",
      "\n",
      "      Mrp  Number_Of_Ratings  Number_Of_Reviews               Upc  \\\n",
      "23  54900              95909               8161  MOBFRFXHPZCHAPEH   \n",
      "53  44900              95909               8161  MOBFWQ6BHUEVZPXD   \n",
      "55  44900              95909               8161  MOBFWQ6BJTVFKPEJ   \n",
      "57  39900              95909               8161  MOBFWQ6BR3MK7AUG   \n",
      "52  39900              95807               8154  MOBFWQ6BGWDVGF3E   \n",
      "\n",
      "    Star_Rating   Ram  Discount_Percentage  Color iPhone_Version  \n",
      "23          4.5  2 GB                18.03  White      iPhone SE  \n",
      "53          4.5  2 GB                22.05  Black      iPhone SE  \n",
      "55          4.5  2 GB                22.05    Red      iPhone SE  \n",
      "57          4.5  4 GB                24.81  Black      iPhone SE  \n",
      "52          4.5  2 GB                24.81  White      iPhone SE  \n"
     ]
    }
   ],
   "source": [
    "# Sort the DataFrame by 'Number Of Reviews' in descending order\n",
    "df_sorted = df.sort_values(by='Number_Of_Reviews', ascending=False)\n",
    "\n",
    "# Select the top 5 models with the highest number of reviews\n",
    "top_5_models = df_sorted.head(5)\n",
    "\n",
    "# Display the result\n",
    "print(top_5_models)\n"
   ],
   "metadata": {
    "collapsed": false,
    "ExecuteTime": {
     "end_time": "2023-10-15T17:08:22.628479400Z",
     "start_time": "2023-10-15T17:08:22.411457600Z"
    }
   },
   "id": "c86ff7812d22d3a6"
  },
  {
   "cell_type": "markdown",
   "source": [
    "10 - What is the price difference between highest price and lowest price iphone (based on mrp)"
   ],
   "metadata": {
    "collapsed": false
   },
   "id": "42738dec8e1f144"
  },
  {
   "cell_type": "code",
   "execution_count": 29,
   "outputs": [
    {
     "name": "stdout",
     "output_type": "stream",
     "text": [
      "110000\n"
     ]
    }
   ],
   "source": [
    "# Price difference between the highest price and lowest price iphone (based on mrp)\n",
    "price_Difference = max(df[\"Mrp\"])-min(df[\"Mrp\"])\n",
    "\n",
    "print(price_Difference)"
   ],
   "metadata": {
    "collapsed": false,
    "ExecuteTime": {
     "end_time": "2023-10-15T17:08:22.628479400Z",
     "start_time": "2023-10-15T17:08:22.425098400Z"
    }
   },
   "id": "3293337931f98a02"
  },
  {
   "cell_type": "markdown",
   "source": [
    "11 - Find total no of reviews for iphone 11 and iphone 12 category . Output should have only 2 rows (for 11 and 12)."
   ],
   "metadata": {
    "collapsed": false
   },
   "id": "e9c2824a352e9937"
  },
  {
   "cell_type": "code",
   "execution_count": 30,
   "outputs": [
    {
     "name": "stdout",
     "output_type": "stream",
     "text": [
      "  iPhone Category  Total Reviews\n",
      "0       iPhone 11          25965\n",
      "1       iPhone 12           2208\n"
     ]
    }
   ],
   "source": [
    "# Filter the DataFrame for iPhone 11 and iPhone 12 categories\n",
    "iphone_11_reviews = df[df[\"Product_Name\"].str.contains('iPhone 11', case=False)]\n",
    "iphone_12_reviews = df[df[\"Product_Name\"].str.contains('iPhone 12', case=False)]\n",
    "\n",
    "# Calculate the total number of reviews for each category\n",
    "total_reviews_11 = iphone_11_reviews['Number_Of_Reviews'].sum()\n",
    "total_reviews_12 = iphone_12_reviews['Number_Of_Reviews'].sum()\n",
    "\n",
    "# Create a new DataFrame with the results\n",
    "result_df = pd.DataFrame({\n",
    "    'iPhone Category': ['iPhone 11', 'iPhone 12'],\n",
    "    'Total Reviews': [total_reviews_11, total_reviews_12]\n",
    "})\n",
    "\n",
    "# Display the result\n",
    "print(result_df)"
   ],
   "metadata": {
    "collapsed": false,
    "ExecuteTime": {
     "end_time": "2023-10-15T17:08:22.644129300Z",
     "start_time": "2023-10-15T17:08:22.428792100Z"
    }
   },
   "id": "6de24e5cf0d6188b"
  },
  {
   "cell_type": "markdown",
   "source": [
    "12- Which iphone has 3rd highest MRP"
   ],
   "metadata": {
    "collapsed": false
   },
   "id": "1b40c73f6c890c61"
  },
  {
   "cell_type": "code",
   "execution_count": 31,
   "outputs": [
    {
     "name": "stdout",
     "output_type": "stream",
     "text": [
      "Product_Name                APPLE iPhone 11 Pro (Midnight Green, 512 GB)\n",
      "Product_URL            https://www.flipkart.com/apple-iphone-11-pro-m...\n",
      "Brand                                                              Apple\n",
      "Sale_Price                                                        117900\n",
      "Mrp                                                               140300\n",
      "Number_Of_Ratings                                                   7088\n",
      "Number_Of_Reviews                                                    523\n",
      "Upc                                                     MOBFKCTSSJCWYGCC\n",
      "Star_Rating                                                          4.6\n",
      "Ram                                                                 4 GB\n",
      "Discount_Percentage                                                15.97\n",
      "Color                                                     Midnight Green\n",
      "iPhone_Version                                                 iPhone 11\n",
      "Name: 2, dtype: object\n"
     ]
    }
   ],
   "source": [
    "# Sort the DataFrame by 'Mrp' column in descending order and reset the index\n",
    "sorted_df = df.sort_values(by='Mrp', ascending=False).reset_index(drop=True)\n",
    "\n",
    "# Get the iPhone with the 3rd highest MRP\n",
    "third_highest_mrp_iphone = sorted_df.loc[2]\n",
    "\n",
    "# Print the details of the iPhone with the 3rd highest MRP\n",
    "print(third_highest_mrp_iphone)"
   ],
   "metadata": {
    "collapsed": false,
    "ExecuteTime": {
     "end_time": "2023-10-15T17:08:22.644129300Z",
     "start_time": "2023-10-15T17:08:22.441037100Z"
    }
   },
   "id": "b0c1b0b1943f4d51"
  },
  {
   "cell_type": "markdown",
   "source": [
    "13- What is the average mrp of iphones which costs above 100,000"
   ],
   "metadata": {
    "collapsed": false
   },
   "id": "f2a392358e53bcbe"
  },
  {
   "cell_type": "code",
   "execution_count": 32,
   "outputs": [
    {
     "name": "stdout",
     "output_type": "stream",
     "text": [
      "130559\n"
     ]
    }
   ],
   "source": [
    "# Filter the DataFrame to include only iPhones with MRP above 100,000 and calculated the average MRP\n",
    "avg_Iphone = df.loc[df[\"Mrp\"] > 100000, 'Mrp'].mean()\n",
    "\n",
    "# Display the result\n",
    "print(round(avg_Iphone))"
   ],
   "metadata": {
    "collapsed": false,
    "ExecuteTime": {
     "end_time": "2023-10-15T17:08:22.644129300Z",
     "start_time": "2023-10-15T17:08:22.456532800Z"
    }
   },
   "id": "37f0a17cafaeae2e"
  },
  {
   "cell_type": "markdown",
   "source": [
    "14- Which iphone with 128 GB space has highest ratings to review ratio"
   ],
   "metadata": {
    "collapsed": false
   },
   "id": "98dec6f13918ba9d"
  },
  {
   "cell_type": "code",
   "execution_count": 33,
   "outputs": [
    {
     "name": "stdout",
     "output_type": "stream",
     "text": [
      "13.05\n"
     ]
    }
   ],
   "source": [
    "# Calculate the ratings-to-reviews ratio for each iPhone\n",
    "df[\"rating_to_review\"] = round(df[\"Number_Of_Ratings\"]/df[\"Number_Of_Reviews\"],2)\n",
    "\n",
    "# Find the iPhone with the highest ratings-to-reviews ratio\n",
    "max_IphoneRatio = max(df.loc[df[\"Product_Name\"].str.contains(\"128 GB\"),'rating_to_review'])\n",
    "\n",
    "# Display the result\n",
    "print(max_IphoneRatio)"
   ],
   "metadata": {
    "collapsed": false,
    "ExecuteTime": {
     "end_time": "2023-10-15T17:08:22.644129300Z",
     "start_time": "2023-10-15T17:08:22.460437900Z"
    }
   },
   "id": "b328ca41fee86373"
  }
 ],
 "metadata": {
  "kernelspec": {
   "display_name": "Python 3",
   "language": "python",
   "name": "python3"
  },
  "language_info": {
   "codemirror_mode": {
    "name": "ipython",
    "version": 2
   },
   "file_extension": ".py",
   "mimetype": "text/x-python",
   "name": "python",
   "nbconvert_exporter": "python",
   "pygments_lexer": "ipython2",
   "version": "2.7.6"
  }
 },
 "nbformat": 4,
 "nbformat_minor": 5
}
